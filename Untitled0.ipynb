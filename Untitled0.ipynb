{
  "nbformat": 4,
  "nbformat_minor": 0,
  "metadata": {
    "colab": {
      "provenance": []
    },
    "kernelspec": {
      "name": "python3",
      "display_name": "Python 3"
    },
    "language_info": {
      "name": "python"
    }
  },
  "cells": [
    {
      "cell_type": "markdown",
      "source": [
        "ch#3\n",
        "example 3.4\n",
        " If you could invite anyone, living or deceased, to dinner, who \n",
        "would you invite? Make a list that includes at least three people you’d like to \n",
        "invite to dinner. Then use your list to print a message to each person, inviting \n",
        "them to dinner."
      ],
      "metadata": {
        "id": "MzIObn76G4ar"
      }
    },
    {
      "cell_type": "code",
      "source": [
        "\n",
        "munib_guests = [\"sheri\", \"waseem\", \"Ali\"];\n",
        "print(\"Hi \"+munib_guests[0]+\", \"+munib_guests[1]+\", \"+munib_guests[2]+\", You all are invited for Dinner at Tasty on coming Sunday.\")\n",
        "     \n"
      ],
      "metadata": {
        "colab": {
          "base_uri": "https://localhost:8080/"
        },
        "id": "hlRzAhIUJNTC",
        "outputId": "3c9df5c0-bc7e-4ca0-8aed-07c36998d72b"
      },
      "execution_count": 2,
      "outputs": [
        {
          "output_type": "stream",
          "name": "stdout",
          "text": [
            "Hi sheri, waseem, Ali, You all are invited for Dinner at Tasty on coming Sunday.\n"
          ]
        }
      ]
    },
    {
      "cell_type": "markdown",
      "source": [
        "Example 3.5 Changing Guest List: You just heard that one of your guests can’t make the dinner, so you need to send out a new set of invitations. You’ll have to think of someone else to invite.\n",
        "\n",
        "Start with your program from Exercise 3-4. Add a print statement at the\n",
        "end of your program stating the name of the guest who can’t make it.\n",
        "\n",
        "Modify your list, replacing the name of the guest who can’t make it with\n",
        "the name of the new person you are inviting.\n",
        "\n",
        "Print a second set of invitation messages, one for each person who is still\n",
        "in your list."
      ],
      "metadata": {
        "id": "Daotw9d2Lw2j"
      }
    },
    {
      "cell_type": "markdown",
      "source": [],
      "metadata": {
        "id": "K7aRbF45NVz4"
      }
    },
    {
      "cell_type": "code",
      "source": [
        "munib_guests = [\"sheri\", \"Waseem\", \"Ali\"];\n",
        "print(munib_guests[1]+\" Will not be able to join us for Dinner.\")\n",
        "\n",
        "munib_guests[1] = 'zobi';\n",
        "print(\"Hi \"+munib_guests[0]+\", You are invited for Dinner at tasty on coming Sunday.\")\n",
        "print(\"Hi \"+munib_guests[1]+\", You are invited for Dinner at tasty on coming Sunday.\")\n",
        "print(\"Hi \"+munib_guests[2]+\", You are invited for Dinner at tasty on coming Sunday.\")\n",
        "     "
      ],
      "metadata": {
        "colab": {
          "base_uri": "https://localhost:8080/"
        },
        "id": "PwpB6nUgMBDS",
        "outputId": "808d666a-fee4-4729-c91b-7e83e5f75b19"
      },
      "execution_count": 5,
      "outputs": [
        {
          "output_type": "stream",
          "name": "stdout",
          "text": [
            "Waseem Will not be able to join us for Dinner.\n",
            "Hi sheri, You are invited for Dinner at tasty on coming Sunday.\n",
            "Hi zobi, You are invited for Dinner at tasty on coming Sunday.\n",
            "Hi Ali, You are invited for Dinner at tasty on coming Sunday.\n"
          ]
        }
      ]
    },
    {
      "cell_type": "markdown",
      "source": [
        "example 3.7 Shrinking Guest Lis:: You just found out that your new dinner table won’t arrive in time for the dinner, and you have space for only two guests.\n",
        "\n",
        "Start with your program from Exercise 3-6. Add a new line that prints a\n",
        "message saying that you can invite only two people for dinner.\n",
        "\n",
        "Use pop() to remove guests from your list one at a time until only two\n",
        "names remain in your list. Each time you pop a name from your list, print a message to that person letting them know you’re sorry you can’t invite them to dinner.\n",
        "\n",
        "Print a message to each of the two people still on your list, letting them\n",
        "know they’re still invited.\n",
        "\n",
        "Use del to remove the last two names from your list, so you have an empty\n",
        "list. Print your list to make sure you actually have an empty list at the end of your program."
      ],
      "metadata": {
        "id": "xZ27wacjNpi1"
      }
    },
    {
      "cell_type": "code",
      "source": [
        "munib_guests = [\"Sheri\", \"Waseem\", \"Ali\"];\n",
        "munib_guests.insert(0, \"zobi\");\n",
        "munib_guests.insert(2, \"adil\");\n",
        "munib_guests.append(\"Naeem\");\n",
        "\n",
        "print(\"I am erally sorry to announce that my booking for tasty is changed, now I can invite only two people\")\n",
        "removed1 = munib_guests.pop(0)\n",
        "print(\"Hi \"+removed1+\", Sorry I can't invite you to dinner\")\n",
        "removed2 = munib_guests.pop(0)\n",
        "print(\"Hi \"+removed2+\", Sorry I can't invite you to dinner\")\n",
        "removed3 = munib_guests.pop(0)\n",
        "print(\"Hi \"+removed3+\", Sorry I can't invite you to dinner\")\n",
        "removed4 = munib_guests.pop(0)\n",
        "print(\"Hi \"+removed4+\", Sorry I can't invite you to dinner\\n\")\n",
        "print(\"Hi \"+munib_guests[0]+\", You are still invited for the Dinner\")\n",
        "print(\"Hi \"+munib_guests[1]+\", You are still invited for the Dinner\")\n",
        "\n",
        "del munib_guests[0]\n",
        "del munib_guests[0]\n",
        "print(munib_guests)"
      ],
      "metadata": {
        "colab": {
          "base_uri": "https://localhost:8080/"
        },
        "id": "iYhNQBFjOGRp",
        "outputId": "8827c9da-be02-4df1-bba2-aea1e260d926"
      },
      "execution_count": 4,
      "outputs": [
        {
          "output_type": "stream",
          "name": "stdout",
          "text": [
            "I am erally sorry to announce that my booking for tasty is changed, now I can invite only two people\n",
            "Hi zobi, Sorry I can't invite you to dinner\n",
            "Hi Sheri, Sorry I can't invite you to dinner\n",
            "Hi adil, Sorry I can't invite you to dinner\n",
            "Hi Waseem, Sorry I can't invite you to dinner\n",
            "\n",
            "Hi Ali, You are still invited for the Dinner\n",
            "Hi Naeem, You are still invited for the Dinner\n",
            "[]\n"
          ]
        }
      ]
    }
  ]
}